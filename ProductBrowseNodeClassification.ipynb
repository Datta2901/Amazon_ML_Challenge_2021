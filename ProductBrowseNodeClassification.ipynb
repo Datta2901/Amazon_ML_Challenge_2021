{
 "cells": [
  {
   "cell_type": "code",
   "execution_count": null,
   "metadata": {},
   "outputs": [],
   "source": [
    "import pandas as pd\n",
    "import csv\n",
    "import numpy as np\n",
    "from sklearn.feature_extraction.text import CountVectorizer\n",
    "from sklearn.feature_extraction.text import TfidfTransformer\n",
    "from sklearn.neighbors import KNeighborsClassifier\n",
    "from sklearn.model_selection import train_test_split\n",
    "from sklearn.metrics import accuracy_score\n",
    "from scipy.stats import mode"
   ]
  },
  {
   "cell_type": "code",
   "execution_count": null,
   "metadata": {},
   "outputs": [],
   "source": [
    "df = pd.read_csv(r'./dataset/dataset/train.csv',escapechar = \"\\\\\",quoting = csv.QUOTE_NONE)"
   ]
  },
  {
   "cell_type": "code",
   "execution_count": null,
   "metadata": {},
   "outputs": [],
   "source": [
    "df['TITLE'] = df[\"TITLE\"].fillna(\"NA\")\n",
    "df[\"DESCRIPTION\"] = df[\"DESCRIPTION\"].fillna(\"NA\")\n",
    "df[\"BULLET_POINTS\"] = df[\"BULLET_POINTS\"].fillna(\"NA\")\n",
    "df[\"BRAND\"] = df[\"BRAND\"].fillna(\"NA\")"
   ]
  },
  {
   "cell_type": "code",
   "execution_count": null,
   "metadata": {},
   "outputs": [],
   "source": [
    "df.info()"
   ]
  },
  {
   "cell_type": "code",
   "execution_count": null,
   "metadata": {},
   "outputs": [],
   "source": [
    "count_vector_title = CountVectorizer(stop_words = 'english')\n",
    "tfidf_title = TfidfTransformer()\n",
    "title_tfidf = tfidf_title.fit_transform(count_vector_title.fit_transform(df['TITLE'].values)) "
   ]
  },
  {
   "cell_type": "code",
   "execution_count": null,
   "metadata": {},
   "outputs": [],
   "source": [
    "count_vector_description= CountVectorizer(stop_words = 'english')\n",
    "tfidf_description= TfidfTransformer()\n",
    "description_tfidf = tfidf_description.fit_transform(count_vector_description.fit_transform(df['DESCRIPTION'].values)) "
   ]
  },
  {
   "cell_type": "code",
   "execution_count": null,
   "metadata": {},
   "outputs": [],
   "source": [
    "count_vector_bulletPoints= CountVectorizer(stop_words = 'english')\n",
    "tfidf_bulletPoints= TfidfTransformer()\n",
    "bulletPoints_tfidf = tfidf_bulletPoints.fit_transform(count_vector_bulletPoints.fit_transform(df['BULLET_POINTS'].values)) "
   ]
  },
  {
   "cell_type": "code",
   "execution_count": null,
   "metadata": {},
   "outputs": [],
   "source": [
    "count_vector_brand = CountVectorizer(stop_words = 'english')\n",
    "tfidf_brand = TfidfTransformer()\n",
    "brand_tfidf = tfidf_brand.fit_transform(count_vector_brand.fit_transform(df['BRAND'].values)) "
   ]
  },
  {
   "cell_type": "code",
   "execution_count": null,
   "metadata": {},
   "outputs": [],
   "source": [
    "y = df.iloc[:,4].values"
   ]
  },
  {
   "cell_type": "code",
   "execution_count": null,
   "metadata": {},
   "outputs": [],
   "source": [
    "t_train,t_test,t_y_train,t_y_test = train_test_split(title_tfidf,y,test_size=0.00005)"
   ]
  },
  {
   "cell_type": "code",
   "execution_count": null,
   "metadata": {},
   "outputs": [],
   "source": [
    "d_train,d_test,d_y_train,d_y_test = train_test_split(description_tfidf,y,test_size=0.00005)"
   ]
  },
  {
   "cell_type": "code",
   "execution_count": null,
   "metadata": {},
   "outputs": [],
   "source": [
    "b_train,b_test,b_y_train,b_y_test = train_test_split(bulletPoints_tfidf,y,test_size=0.00005,random_state = 0)"
   ]
  },
  {
   "cell_type": "code",
   "execution_count": null,
   "metadata": {},
   "outputs": [],
   "source": [
    "br_train,br_test,br_y_train,br_y_test = train_test_split(brand_tfidf,y,test_size=0.00005,random_state = 0)"
   ]
  },
  {
   "cell_type": "code",
   "execution_count": null,
   "metadata": {},
   "outputs": [],
   "source": [
    "KNN_title = KNeighborsClassifier(n_neighbors=3,n_jobs=-1)\n",
    "KNN_description = KNeighborsClassifier(n_neighbors=3,n_jobs=-1)\n",
    "KNN_bulletPoints = KNeighborsClassifier(n_neighbors=3,n_jobs=-1)\n",
    "KNN_brand = KNeighborsClassifier(n_neighbors=3,n_jobs=-1)"
   ]
  },
  {
   "cell_type": "code",
   "execution_count": null,
   "metadata": {},
   "outputs": [],
   "source": [
    "KNN_title.fit(t_train,t_y_train)"
   ]
  },
  {
   "cell_type": "code",
   "execution_count": null,
   "metadata": {},
   "outputs": [],
   "source": [
    "KNN_description.fit(d_train,d_y_train)"
   ]
  },
  {
   "cell_type": "code",
   "execution_count": null,
   "metadata": {},
   "outputs": [],
   "source": [
    "KNN_bulletPoints.fit(b_train,b_y_train)"
   ]
  },
  {
   "cell_type": "code",
   "execution_count": null,
   "metadata": {},
   "outputs": [],
   "source": [
    "KNN_brand.fit(br_train,br_y_train)"
   ]
  },
  {
   "cell_type": "code",
   "execution_count": null,
   "metadata": {},
   "outputs": [],
   "source": [
    "t_pred = KNN_title.predict(t_test)"
   ]
  },
  {
   "cell_type": "code",
   "execution_count": null,
   "metadata": {},
   "outputs": [],
   "source": [
    "d_pred = KNN_description.predict(d_test)"
   ]
  },
  {
   "cell_type": "code",
   "execution_count": null,
   "metadata": {},
   "outputs": [],
   "source": [
    "b_pred = KNN_brand.predict(br_test)"
   ]
  },
  {
   "cell_type": "code",
   "execution_count": null,
   "metadata": {},
   "outputs": [],
   "source": [
    "br_pred = KNN_bulletPoints.predict(b_test)"
   ]
  },
  {
   "cell_type": "code",
   "execution_count": null,
   "metadata": {},
   "outputs": [],
   "source": [
    "pred_y = np.stack((t_pred,d_pred,b_pred,br_pred),axis=1)"
   ]
  },
  {
   "cell_type": "code",
   "execution_count": null,
   "metadata": {},
   "outputs": [],
   "source": [
    "final_pred = np.array([],dtype='i')\n",
    "for k in pred_y:\n",
    "    final_pred = np.append(final_pred,int(mode(k)[0]))"
   ]
  },
  {
   "cell_type": "code",
   "execution_count": null,
   "metadata": {},
   "outputs": [],
   "source": [
    "df_test = pd.read_csv(r\"./dataset/dataset/test.csv\",escapechar = \"\\\\\",quoting = csv.QUOTE_NONE)"
   ]
  },
  {
   "cell_type": "code",
   "execution_count": null,
   "metadata": {},
   "outputs": [],
   "source": [
    "df_test['TITLE'] = df_test[\"TITLE\"].fillna(\"NA\")\n",
    "df_test[\"DESCRIPTION\"] = df_test[\"DESCRIPTION\"].fillna(\"NA\")\n",
    "df_test[\"BULLET_POINTS\"] = df_test[\"BULLET_POINTS\"].fillna(\"NA\")\n",
    "df_test[\"BRAND\"] = df_test[\"BRAND\"].fillna(\"NA\")"
   ]
  },
  {
   "cell_type": "code",
   "execution_count": null,
   "metadata": {},
   "outputs": [],
   "source": [
    "test_pred_t = KNN_title.predict(tfidf_title.transform(count_vector_title.transform(df_test['TITLE'].values)))"
   ]
  },
  {
   "cell_type": "code",
   "execution_count": null,
   "metadata": {},
   "outputs": [],
   "source": [
    "test_pred_d = KNN_description.predict(tfidf_description.transform(count_vector_description.transform(df_test['DESCRIPTION'].values)))"
   ]
  },
  {
   "cell_type": "code",
   "execution_count": null,
   "metadata": {},
   "outputs": [],
   "source": [
    "test_pred_b = KNN_bulletPoints.predict(tfidf_bulletPoints.transform(count_vector_bulletPoints.transform(df_test['BULLET_POINTS'].values)))"
   ]
  },
  {
   "cell_type": "code",
   "execution_count": null,
   "metadata": {},
   "outputs": [],
   "source": [
    "test_pred_br = KNN_brand.predict(tfidf_brand.transform(count_vector_brand.transform(df_test['BRAND'].values)))"
   ]
  },
  {
   "cell_type": "code",
   "execution_count": null,
   "metadata": {},
   "outputs": [],
   "source": [
    "final_pred_all = np.stack( (test_pred_t,test_pred_d,test_pred_b,test_pred_br) , axis=1 )"
   ]
  },
  {
   "cell_type": "code",
   "execution_count": null,
   "metadata": {},
   "outputs": [],
   "source": [
    "final_pred = np.array([],dtype='i')\n",
    "for k in final_pred_all:\n",
    "    #print(mode(x)[0])\n",
    "    final_pred = np.append(final_pred,int(mode(k)[0]))."
   ]
  },
  {
   "cell_type": "code",
   "execution_count": null,
   "metadata": {},
   "outputs": [],
   "source": [
    "csv_file = open('./Submission/predictions.csv', 'w')\n",
    "csv_writer = csv.writer(csv_file,delimiter=',', lineterminator='\\n')\n",
    "for pp in range(len(test_pred_t)):\n",
    "    csv_writer.writerow([df_test[\"PRODUCT_ID\"][pp],test_pred_t[pp]])\n",
    "csv_file.close()"
   ]
  }
 ],
 "metadata": {
  "interpreter": {
   "hash": "767d51c1340bd893661ea55ea3124f6de3c7a262a8b4abca0554b478b1e2ff90"
  },
  "kernelspec": {
   "display_name": "Python 3.8.9 64-bit",
   "language": "python",
   "name": "python3"
  },
  "language_info": {
   "codemirror_mode": {
    "name": "ipython",
    "version": 3
   },
   "file_extension": ".py",
   "mimetype": "text/x-python",
   "name": "python",
   "nbconvert_exporter": "python",
   "pygments_lexer": "ipython3",
   "version": "3.8.9"
  },
  "orig_nbformat": 4
 },
 "nbformat": 4,
 "nbformat_minor": 2
}
